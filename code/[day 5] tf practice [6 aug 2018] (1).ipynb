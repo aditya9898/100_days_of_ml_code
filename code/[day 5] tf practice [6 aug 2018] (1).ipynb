{
 "cells": [
  {
   "cell_type": "code",
   "execution_count": 3,
   "metadata": {},
   "outputs": [
    {
     "name": "stderr",
     "output_type": "stream",
     "text": [
      "C:\\Users\\aditya\\AppData\\Local\\Continuum\\anaconda3\\envs\\tensorflow\\lib\\site-packages\\h5py\\__init__.py:36: FutureWarning: Conversion of the second argument of issubdtype from `float` to `np.floating` is deprecated. In future, it will be treated as `np.float64 == np.dtype(float).type`.\n",
      "  from ._conv import register_converters as _register_converters\n"
     ]
    }
   ],
   "source": [
    "import tensorflow as tf\n",
    "import pandas as pd\n",
    "import matplotlib.pyplot as plt\n",
    "import numpy as np\n",
    "import pandas as pd"
   ]
  },
  {
   "cell_type": "code",
   "execution_count": 4,
   "metadata": {},
   "outputs": [],
   "source": [
    "def create_placeholders():\n",
    "    X=tf.placeholder(tf.float32,[None,28,28,1])\n",
    "    Y=tf.placeholder(tf.float32,[None,10])\n",
    "    return X,Y"
   ]
  },
  {
   "cell_type": "code",
   "execution_count": 5,
   "metadata": {},
   "outputs": [],
   "source": [
    "def make_params():\n",
    "    w1=tf.get_variable('w1',[5,5,1,16],initializer=tf.contrib.layers.xavier_initializer(seed=0))\n",
    "    w2=tf.get_variable('w2',[5,5,16,32],initializer=tf.contrib.layers.xavier_initializer(seed=0))\n",
    "    w3=tf.get_variable('w3',[5,5,32,64],initializer=tf.contrib.layers.xavier_initializer(seed=0))\n",
    "    parameters={'w1':w1,'w2':w2,'w3':w3}\n",
    "    return parameters"
   ]
  },
  {
   "cell_type": "code",
   "execution_count": 6,
   "metadata": {},
   "outputs": [],
   "source": [
    "def for_prop(xtr,params):\n",
    "    w1=params['w1']\n",
    "    w2=params['w2']\n",
    "    w3=params['w3']\n",
    "    nx=xtr\n",
    "    nx=tf.nn.conv2d(nx,w1,strides=[1,1,1,1],padding='SAME')\n",
    "    nx=tf.nn.relu(nx)\n",
    "    nx=tf.nn.max_pool(nx,ksize=[1,3,3,1],strides=[1,1,1,1],padding='VALID')\n",
    "    nx=tf.nn.conv2d(nx,w2,strides=[1,1,1,1],padding='VALID')\n",
    "    nx=tf.nn.relu(nx)\n",
    "    nx=tf.nn.max_pool(nx,ksize=[1,3,3,1],strides=[1,1,1,1],padding='VALID')\n",
    "    nx=tf.nn.conv2d(nx,w3,strides=[1,1,1,1],padding='VALID')\n",
    "    nx=tf.nn.relu(nx)\n",
    "    nx=tf.nn.max_pool(nx,ksize=[1,3,3,1],strides=[1,1,1,1],padding='VALID')\n",
    "    nx=tf.contrib.layers.flatten(nx)\n",
    "    nx=tf.contrib.layers.fully_connected(nx,10,activation_fn=None)\n",
    "    return nx"
   ]
  },
  {
   "cell_type": "code",
   "execution_count": 7,
   "metadata": {},
   "outputs": [],
   "source": [
    "def compute_cost(logits,labels):\n",
    "    cost=tf.reduce_mean(tf.nn.softmax_cross_entropy_with_logits(logits=logits,labels=labels))\n",
    "    return cost"
   ]
  },
  {
   "cell_type": "code",
   "execution_count": 8,
   "metadata": {},
   "outputs": [],
   "source": [
    "def random_mini_batches(xtr,ytr,mbs):\n",
    "    m=xtr.shape[0]\n",
    "    perm=list(np.random.permutation(m))\n",
    "    xtr=xtr[perm,:,:,:]\n",
    "    ytr=ytr[perm,:]\n",
    "    num_tot_mb=m//mbs\n",
    "    minibatches=[]\n",
    "    for i in range(num_tot_mb):\n",
    "        mbx=xtr[i*mbs:(i+1)*mbs,:,:,:]\n",
    "        mby=ytr[i*mbs:(i+1)*mbs,:]\n",
    "        mb=(mbx,mby)\n",
    "        minibatches.append(mb)\n",
    "    if m%mbs!=0:\n",
    "        mbx=xtr[num_tot_mb*mbs:m,:,:,:]\n",
    "        mby=ytr[num_tot_mb*mbs:m,:]\n",
    "        mb=(mbx,mby)\n",
    "        minibatches.append(mb)\n",
    "    return minibatches"
   ]
  },
  {
   "cell_type": "code",
   "execution_count": 9,
   "metadata": {},
   "outputs": [],
   "source": [
    "def accuracy(zf,ytr):\n",
    "    y_pred=np.argmax(zf,axis=1)\n",
    "    acc=np.mean(y_pred==ytr)\n",
    "    return acc"
   ]
  },
  {
   "cell_type": "code",
   "execution_count": 10,
   "metadata": {},
   "outputs": [
    {
     "name": "stdout",
     "output_type": "stream",
     "text": [
      "(60000, 784)\n",
      "(60000, 1)\n",
      "(60000, 28, 28, 1)\n",
      "(60000, 10)\n"
     ]
    }
   ],
   "source": [
    "df=pd.read_csv('./datasets/fashion-mnist_train.csv')\n",
    "train_data=df.as_matrix()\n",
    "xtr=train_data[:,1::]\n",
    "ytr=train_data[:,0].reshape(60000,1)\n",
    "print(xtr.shape)\n",
    "print(ytr.shape)\n",
    "xtr=xtr.reshape(60000,28,28,1)\n",
    "print(xtr.shape)\n",
    "ytroh=tf.one_hot(ytr,10,axis=1)\n",
    "with tf.Session() as sess:\n",
    "    ytroh=sess.run(ytroh).reshape(60000,10)\n",
    "print(ytroh.shape)"
   ]
  },
  {
   "cell_type": "code",
   "execution_count": 14,
   "metadata": {},
   "outputs": [],
   "source": [
    "newx=xtr[0:100,:,:,:]\n",
    "newy=ytr[0:100,:]"
   ]
  },
  {
   "cell_type": "code",
   "execution_count": 43,
   "metadata": {},
   "outputs": [],
   "source": [
    "def train(xtr,ytr,epochs=5,lr=0.001,batch_size=64):\n",
    "    X,Y=create_placeholders()\n",
    "    params=make_params()\n",
    "    zf=for_prop(X,params)\n",
    "    cost=compute_cost(zf,Y)\n",
    "    optimizer=tf.train.AdamOptimizer(learning_rate=lr).minimize(cost)\n",
    "    init=tf.global_variables_initializer()\n",
    "    with tf.Session() as sess:\n",
    "        sess.run(init)\n",
    "        costs=[]\n",
    "        for i in range(epochs):\n",
    "            epoch_cost=0\n",
    "            minibatches=random_mini_batches(xtr,ytr,batch_size)\n",
    "            m=xtr.shape[0]\n",
    "            num_tot_mb=m//batch_size\n",
    "            for mb in minibatches:\n",
    "                mbx,mby=mb\n",
    "                _,c=sess.run([optimizer,cost],feed_dict={X:mbx,Y:mby})\n",
    "                epoch_cost+=c/num_tot_mb\n",
    "            costs.append(epoch_cost)\n",
    "            print('cost after epoch '+str(i)+':'+str(epoch_cost))\n",
    "        final_params=sess.run(params)\n",
    "        accuracy_list=[]\n",
    "        minibatches=random_mini_batches(xtr,ytr,batch_size)\n",
    "        for mb in minibatches:\n",
    "            mbx,mby=mb\n",
    "            m=mbx.shape[0]\n",
    "            test_fz=sess.run(zf,feed_dict={X:mbx})\n",
    "            test_fz=tf.argmax(test_fz,1)\n",
    "            test_fz=sess.run(test_fz)\n",
    "            test_fz=test_fz.reshape(m,1)\n",
    "            mby=(np.argmax(mby,1)).reshape(m,1)\n",
    "            acc=np.mean(test_fz==mby)\n",
    "            accuracy_list.append(acc)\n",
    "        accuracy_list=np.mean(accuracy_list)\n",
    "        print('accuracy is---'+str(accuracy_list))\n",
    "    plt.plot(np.squeeze(costs))\n",
    "    plt.xlabel('epochs in 5s')\n",
    "    plt.ylabel('cost')\n",
    "    plt.title('cost vs epochs')    \n",
    "    return(final_params,test_fz,newy)"
   ]
  },
  {
   "cell_type": "code",
   "execution_count": 44,
   "metadata": {},
   "outputs": [
    {
     "name": "stdout",
     "output_type": "stream",
     "text": [
      "cost after epoch 0:1.1750965693780702\n",
      "cost after epoch 1:0.41409544138637366\n",
      "cost after epoch 2:0.37512649301530987\n",
      "cost after epoch 3:0.3814415371198532\n",
      "cost after epoch 4:0.3485273541832936\n",
      "accuracy is---0.8857276119402985\n"
     ]
    },
    {
     "data": {
      "image/png": "[encoded data removed]",
      "text/plain": [
       "<Figure size 432x288 with 1 Axes>"
      ]
     },
     "metadata": {},
     "output_type": "display_data"
    }
   ],
   "source": [
    "tf.reset_default_graph()\n",
    "params,zf,ny=train(xtr,ytroh)"
   ]
  },
  {
   "cell_type": "code",
   "execution_count": null,
   "metadata": {},
   "outputs": [],
   "source": []
  }
 ],
 "metadata": {
  "kernelspec": {
   "display_name": "Python 3",
   "language": "python",
   "name": "python3"
  },
  "language_info": {
   "codemirror_mode": {
    "name": "ipython",
    "version": 3
   },
   "file_extension": ".py",
   "mimetype": "text/x-python",
   "name": "python",
   "nbconvert_exporter": "python",
   "pygments_lexer": "ipython3",
   "version": "3.5.4"
  }
 },
 "nbformat": 4,
 "nbformat_minor": 2
}
