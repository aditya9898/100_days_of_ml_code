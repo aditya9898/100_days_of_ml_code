{
 "cells": [
  {
   "cell_type": "code",
   "execution_count": 1,
   "metadata": {
    "scrolled": true
   },
   "outputs": [
    {
     "name": "stderr",
     "output_type": "stream",
     "text": [
      "C:\\Users\\aditya\\AppData\\Local\\Continuum\\anaconda3\\envs\\tensorflow\\lib\\site-packages\\h5py\\__init__.py:36: FutureWarning: Conversion of the second argument of issubdtype from `float` to `np.floating` is deprecated. In future, it will be treated as `np.float64 == np.dtype(float).type`.\n",
      "  from ._conv import register_converters as _register_converters\n"
     ]
    }
   ],
   "source": [
    "import tensorflow as tf\n",
    "import numpy as np\n",
    "import matplotlib.pyplot as plt\n",
    "import pandas as pd"
   ]
  },
  {
   "cell_type": "code",
   "execution_count": 2,
   "metadata": {},
   "outputs": [],
   "source": [
    "def initialize_parameters(ld):\n",
    "    params={}\n",
    "    layers=len(ld)-1\n",
    "    for i in range(layers):\n",
    "        params['w'+str(i+1)]=tf.get_variable('w'+str(i+1),[ld[i+1],ld[i]],initializer=tf.contrib.layers.xavier_initializer(seed=1))\n",
    "        params['b'+str(i+1)]=tf.get_variable('b'+str(i+1),[ld[i+1],1],initializer=tf.zeros_initializer())\n",
    "    return params"
   ]
  },
  {
   "cell_type": "code",
   "execution_count": 3,
   "metadata": {},
   "outputs": [],
   "source": [
    "def forward_propagation(x,params):\n",
    "    layers=len(params)//2\n",
    "    z=x\n",
    "    for i in range(layers-1):\n",
    "        z=tf.add(tf.matmul(params['w'+str(i+1)],z),params['b'+str(i+1)])\n",
    "        z=tf.nn.relu(z)\n",
    "    z=tf.add((tf.matmul(params['w'+str(layers)],z)),params['b'+str(layers)])\n",
    "    return z"
   ]
  },
  {
   "cell_type": "code",
   "execution_count": 4,
   "metadata": {},
   "outputs": [],
   "source": [
    "def compute_cost(logits,labels):\n",
    "    logits=tf.transpose(logits)\n",
    "    labels=tf.transpose(labels)\n",
    "    cost=tf.reduce_mean(tf.nn.softmax_cross_entropy_with_logits(logits=logits,labels=labels))\n",
    "    return cost"
   ]
  },
  {
   "cell_type": "code",
   "execution_count": 5,
   "metadata": {},
   "outputs": [],
   "source": [
    "def random_mini_batches(x,y,mini_batch_size=32,seed=1):\n",
    "    m=x.shape[1]\n",
    "    num_total_mini_batches=m//mini_batch_size\n",
    "    minibatches=[]\n",
    "    perm=list(np.random.permutation(m))\n",
    "    x=x[:,perm]\n",
    "    y=y[:,perm]\n",
    "    for i in range (num_total_mini_batches):\n",
    "        minibatch_x=x[:,i*mini_batch_size:(i+1)*mini_batch_size]\n",
    "        minibatch_y=y[:,i*mini_batch_size:(i+1)*mini_batch_size]\n",
    "        minibatch=(minibatch_x,minibatch_y)\n",
    "        minibatches.append(minibatch)\n",
    "    if m%mini_batch_size!=0:\n",
    "        minibatch_x=x[:,mini_batch_size*num_total_mini_batches:m]\n",
    "        minibatch_y=y[:,mini_batch_size*num_total_mini_batches:m]\n",
    "        minibatch=(minibatch_x,minibatch_y)\n",
    "        minibatches.append(minibatch)\n",
    "    return minibatches"
   ]
  },
  {
   "cell_type": "code",
   "execution_count": 13,
   "metadata": {},
   "outputs": [],
   "source": [
    "def train(xtr,ytr,ld,learning_rate=0.001,epochs=20,mini_batch_size=64):\n",
    "    n_x,m=xtr.shape\n",
    "    n_y,_=ytr.shape\n",
    "    X=tf.placeholder(tf.float32,(n_x,None))\n",
    "    Y=tf.placeholder(tf.float32,(n_y,None))\n",
    "    params=initialize_parameters(ld)\n",
    "    zf=forward_propagation(X,params)\n",
    "    cost=compute_cost(zf,Y)\n",
    "    optimizer=tf.train.AdamOptimizer(learning_rate=learning_rate).minimize(cost)\n",
    "    init=tf.global_variables_initializer()\n",
    "    costs=[]\n",
    "    with tf.Session() as sess:\n",
    "        sess.run(init)\n",
    "        for i in range(epochs):\n",
    "            epoch_cost=0\n",
    "            minibatches=random_mini_batches(xtr,ytr,mini_batch_size)\n",
    "            for minibatch in minibatches:\n",
    "                minibatch_x,minibatch_y=minibatch\n",
    "                _,c=sess.run([optimizer,cost],feed_dict={X:minibatch_x,Y:minibatch_y})\n",
    "                epoch_cost+=c\n",
    "            if i%5==0:\n",
    "                costs.append(epoch_cost)\n",
    "                print('cost after epoch '+str(i)+':'+str(epoch_cost))\n",
    "        params=sess.run(params)\n",
    "    plt.plot(np.squeeze(costs))\n",
    "    plt.xlabel('epochs in 5s')\n",
    "    plt.ylabel('cost')\n",
    "    plt.title('cost vs epochs')\n",
    "    return params"
   ]
  },
  {
   "cell_type": "code",
   "execution_count": 34,
   "metadata": {
    "scrolled": true
   },
   "outputs": [
    {
     "name": "stdout",
     "output_type": "stream",
     "text": [
      "xtr:(60000, 784)\n",
      "ytr:(60000, 1)\n",
      "xtr:(784, 60000)\n",
      "ytr:(1, 60000)\n",
      "(10, 1, 60000)\n",
      "ytroh:(10, 60000)\n"
     ]
    }
   ],
   "source": [
    "df=pd.read_csv('./datasets/fashion-mnist_train.csv')\n",
    "train_data=df.as_matrix()\n",
    "xtr=train_data[:,1::]\n",
    "ytr=train_data[:,0].reshape(60000,1)\n",
    "print('xtr:'+str(xtr.shape))\n",
    "print('ytr:'+str(ytr.shape))\n",
    "ytr=ytr.T\n",
    "xtr=xtr.T\n",
    "print('xtr:'+str(xtr.shape))\n",
    "print('ytr:'+str(ytr.shape))\n",
    "ytroh=tf.one_hot(ytr,10,axis=0)\n",
    "print(ytroh.shape)\n",
    "with tf.Session() as sess:\n",
    "    ytroh=sess.run(ytroh)\n",
    "ytroh=ytroh.reshape(10,60000)\n",
    "print('ytroh:'+str(ytroh.shape))"
   ]
  },
  {
   "cell_type": "code",
   "execution_count": 35,
   "metadata": {},
   "outputs": [
    {
     "name": "stdout",
     "output_type": "stream",
     "text": [
      "xts:(10000, 784)\n",
      "yts:(10000, 1)\n",
      "xts:(784, 10000)\n",
      "yts:(1, 10000)\n"
     ]
    }
   ],
   "source": [
    "df=pd.read_csv('./datasets/fashion-mnist_test.csv')\n",
    "train_data=df.as_matrix()\n",
    "xts=train_data[:,1::]\n",
    "yts=train_data[:,0].reshape(10000,1)\n",
    "print('xts:'+str(xts.shape))\n",
    "print('yts:'+str(yts.shape))\n",
    "yts=yts.T\n",
    "xts=xts.T\n",
    "print('xts:'+str(xts.shape))\n",
    "print('yts:'+str(yts.shape))"
   ]
  },
  {
   "cell_type": "code",
   "execution_count": 21,
   "metadata": {},
   "outputs": [
    {
     "name": "stdout",
     "output_type": "stream",
     "text": [
      "cost after epoch 0:1147.0724445283413\n",
      "cost after epoch 5:333.53454035520554\n",
      "cost after epoch 10:286.60209007561207\n",
      "cost after epoch 15:250.5109890922904\n",
      "cost after epoch 20:230.61835397034883\n",
      "cost after epoch 25:205.59671615622938\n",
      "cost after epoch 30:194.21767996624112\n",
      "cost after epoch 35:183.034014031291\n",
      "cost after epoch 40:174.41544054076076\n",
      "cost after epoch 45:160.50897178053856\n",
      "cost after epoch 50:155.7081478703767\n",
      "cost after epoch 55:145.7590426541865\n",
      "cost after epoch 60:155.2300070375204\n",
      "cost after epoch 65:148.81629158370197\n",
      "cost after epoch 70:125.274319274351\n",
      "cost after epoch 75:130.04913303256035\n",
      "cost after epoch 80:123.84035289194435\n",
      "cost after epoch 85:130.48043461237103\n",
      "cost after epoch 90:118.06790320109576\n",
      "cost after epoch 95:115.83742183819413\n",
      "cost after epoch 100:121.3475539740175\n"
     ]
    },
    {
     "data": {
      "image/png": "[encoded data removed]",
      "text/plain": [
       "<Figure size 432x288 with 1 Axes>"
      ]
     },
     "metadata": {},
     "output_type": "display_data"
    }
   ],
   "source": [
    "ld=[784,400,250,100,50,10]\n",
    "tf.reset_default_graph()\n",
    "params=train(xtr,ytroh,ld,epochs=101)"
   ]
  },
  {
   "cell_type": "code",
   "execution_count": 22,
   "metadata": {},
   "outputs": [],
   "source": [
    "def for_prop(x,params):\n",
    "    xx=tf.placeholder(tf.float32,(x.shape[0],None))\n",
    "    zf=forward_propagation(xx,params)\n",
    "    with tf.Session() as sess:\n",
    "        zf=sess.run(zf,feed_dict={xx:x})\n",
    "    preds=np.argmax(zf,axis=0)\n",
    "    return preds"
   ]
  },
  {
   "cell_type": "code",
   "execution_count": 23,
   "metadata": {},
   "outputs": [],
   "source": [
    "def accuracy(preds,y):\n",
    "    return np.mean(preds==y)"
   ]
  },
  {
   "cell_type": "code",
   "execution_count": 25,
   "metadata": {},
   "outputs": [
    {
     "name": "stdout",
     "output_type": "stream",
     "text": [
      "train accuracy:0.9579166666666666\n"
     ]
    }
   ],
   "source": [
    "preds=for_prop(xtr,params)\n",
    "acc=accuracy(preds,ytr)\n",
    "print('train accuracy:'+str(acc))"
   ]
  },
  {
   "cell_type": "code",
   "execution_count": 32,
   "metadata": {},
   "outputs": [
    {
     "name": "stdout",
     "output_type": "stream",
     "text": [
      "test accuracy:0.8935\n"
     ]
    }
   ],
   "source": [
    "preds=for_prop(xts,params)\n",
    "acc=accuracy(preds,yts)\n",
    "print('test accuracy:'+str(acc))"
   ]
  },
  {
   "cell_type": "code",
   "execution_count": 39,
   "metadata": {},
   "outputs": [],
   "source": [
    "classes=['t-shirt','trouser','pullover','dress','coat','sandal','shirt','sneaker','bag','ankle-boot']"
   ]
  },
  {
   "cell_type": "code",
   "execution_count": 66,
   "metadata": {},
   "outputs": [
    {
     "name": "stdout",
     "output_type": "stream",
     "text": [
      "predicted class:trouser\n"
     ]
    },
    {
     "data": {
      "image/png": "[encoded data removed]",
      "text/plain": [
       "<Figure size 432x288 with 1 Axes>"
      ]
     },
     "metadata": {},
     "output_type": "display_data"
    }
   ],
   "source": [
    "n=np.random.randint(0,60000)\n",
    "eg=xtr[:,n].reshape(784,1)\n",
    "egp=eg.reshape(28,28)\n",
    "plt.imshow(egp,cmap='gray')\n",
    "pred=for_prop(eg,params)\n",
    "print('predicted class:'+str(classes[np.squeeze(pred)]))"
   ]
  },
  {
   "cell_type": "code",
   "execution_count": null,
   "metadata": {},
   "outputs": [],
   "source": []
  }
 ],
 "metadata": {
  "kernelspec": {
   "display_name": "Python 3",
   "language": "python",
   "name": "python3"
  },
  "language_info": {
   "codemirror_mode": {
    "name": "ipython",
    "version": 3
   },
   "file_extension": ".py",
   "mimetype": "text/x-python",
   "name": "python",
   "nbconvert_exporter": "python",
   "pygments_lexer": "ipython3",
   "version": "3.5.4"
  }
 },
 "nbformat": 4,
 "nbformat_minor": 2
}
