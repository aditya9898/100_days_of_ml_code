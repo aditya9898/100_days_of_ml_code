{
 "cells": [
  {
   "cell_type": "code",
   "execution_count": 77,
   "metadata": {},
   "outputs": [],
   "source": [
    "import numpy as np\n",
    "from keras import layers\n",
    "from keras.layers import Input,Dense,Activation,MaxPooling2D,Conv2D,Flatten,BatchNormalization\n",
    "from keras.models import Model\n",
    "\n",
    "import keras.backend as K\n",
    "K.set_image_data_format('channels_last')\n",
    "\n",
    "from keras.initializers import he_uniform\n",
    "\n",
    "import matplotlib.pyplot as plt\n",
    "import pandas as pd\n",
    "\n",
    "import tensorflow as tf"
   ]
  },
  {
   "cell_type": "code",
   "execution_count": 107,
   "metadata": {},
   "outputs": [],
   "source": [
    "def model(input_size):\n",
    "    X_input=Input(input_size)\n",
    "    \n",
    "    X=Conv2D(16,(7,7),strides=(1,1),padding='same',kernel_initializer=he_uniform(seed=0))(X_input)\n",
    "    X=BatchNormalization(axis=3)(X)\n",
    "    X=Activation('relu')(X)\n",
    "    \n",
    "    X=MaxPooling2D((3,3),strides=(1,1))(X)\n",
    "    \n",
    "    X=Conv2D(32,(3,3),strides=(1,1),padding='valid',kernel_initializer=he_uniform(seed=0))(X)\n",
    "    X=BatchNormalization(axis=3)(X)\n",
    "    X=Activation('relu')(X)\n",
    "    \n",
    "    X=MaxPooling2D((3,3),strides=(1,1))(X)\n",
    "    \n",
    "    X=Conv2D(48,(5,5),strides=(1,1),padding='valid',kernel_initializer=he_uniform(seed=0))(X)\n",
    "    X=BatchNormalization(axis=3)(X)\n",
    "    X=Activation('relu')(X)\n",
    "    \n",
    "    X=MaxPooling2D((3,3),strides=(1,1))(X)\n",
    "    \n",
    "    X=Conv2D(64,(3,3),strides=(1,1),padding='valid',kernel_initializer=he_uniform(seed=0))(X)\n",
    "    X=BatchNormalization(axis=3)(X)\n",
    "    X=Activation('relu')(X)\n",
    "    \n",
    "    X=MaxPooling2D((3,3),strides=(1,1))(X)\n",
    "    \n",
    "    X=Flatten()(X)\n",
    "    X=Dense(10,activation='softmax')(X)\n",
    "    \n",
    "    mod=Model(inputs=X_input,outputs=X)\n",
    "    return mod"
   ]
  },
  {
   "cell_type": "code",
   "execution_count": 49,
   "metadata": {},
   "outputs": [
    {
     "name": "stdout",
     "output_type": "stream",
     "text": [
      "(60000, 784)\n",
      "(60000, 1)\n",
      "(60000, 28, 28, 1)\n",
      "(60000, 10)\n"
     ]
    }
   ],
   "source": [
    "df=pd.read_csv('./datasets/fashion-mnist_train.csv')\n",
    "train_data=df.as_matrix()\n",
    "xtr=train_data[:,1::]\n",
    "ytr=train_data[:,0].reshape(60000,1)\n",
    "print(xtr.shape)\n",
    "print(ytr.shape)\n",
    "xtr=xtr.reshape(60000,28,28,1)\n",
    "print(xtr.shape)\n",
    "ytroh=tf.one_hot(ytr,10,axis=1)\n",
    "with tf.Session() as sess:\n",
    "    ytroh=sess.run(ytroh).reshape(60000,10)\n",
    "print(ytroh.shape)"
   ]
  },
  {
   "cell_type": "code",
   "execution_count": 50,
   "metadata": {},
   "outputs": [
    {
     "data": {
      "text/plain": [
       "<matplotlib.image.AxesImage at 0x1d2b6cd7ef0>"
      ]
     },
     "execution_count": 50,
     "metadata": {},
     "output_type": "execute_result"
    },
    {
     "data": {
      "image/png": "[encoded data removed]",
      "text/plain": [
       "<Figure size 432x288 with 1 Axes>"
      ]
     },
     "metadata": {},
     "output_type": "display_data"
    }
   ],
   "source": [
    "plt.imshow(xtr[1,:,:,:].reshape(28,28))"
   ]
  },
  {
   "cell_type": "code",
   "execution_count": 108,
   "metadata": {},
   "outputs": [],
   "source": [
    "new_model=model(xtr.shape[1:])"
   ]
  },
  {
   "cell_type": "code",
   "execution_count": 109,
   "metadata": {},
   "outputs": [],
   "source": [
    "new_model.compile(optimizer='Adam',loss='categorical_crossentropy',metrics=['accuracy'])"
   ]
  },
  {
   "cell_type": "code",
   "execution_count": 110,
   "metadata": {},
   "outputs": [
    {
     "name": "stdout",
     "output_type": "stream",
     "text": [
      "Epoch 1/5\n",
      "60000/60000 [==============================] - 74s 1ms/step - loss: 0.5328 - acc: 0.8187\n",
      "Epoch 2/5\n",
      "60000/60000 [==============================] - 71s 1ms/step - loss: 0.3551 - acc: 0.8738\n",
      "Epoch 3/5\n",
      "60000/60000 [==============================] - 71s 1ms/step - loss: 0.3163 - acc: 0.8873\n",
      "Epoch 4/5\n",
      "60000/60000 [==============================] - 71s 1ms/step - loss: 0.2837 - acc: 0.8980\n",
      "Epoch 5/5\n",
      "60000/60000 [==============================] - 71s 1ms/step - loss: 0.2633 - acc: 0.9055\n"
     ]
    },
    {
     "data": {
      "text/plain": [
       "<keras.callbacks.History at 0x1d2d1b9e9b0>"
      ]
     },
     "execution_count": 110,
     "metadata": {},
     "output_type": "execute_result"
    }
   ],
   "source": [
    "new_model.fit(xtr,ytroh,epochs=5,batch_size=64)"
   ]
  },
  {
   "cell_type": "code",
   "execution_count": 111,
   "metadata": {},
   "outputs": [
    {
     "name": "stdout",
     "output_type": "stream",
     "text": [
      "xts:(10000, 784)\n",
      "yts:(10000, 1)\n",
      "xts:(10000, 28, 28, 1)\n",
      "yts:(10000, 10)\n"
     ]
    }
   ],
   "source": [
    "df=pd.read_csv('./datasets/fashion-mnist_test.csv')\n",
    "train_data=df.as_matrix()\n",
    "xts=train_data[:,1::]\n",
    "yts=train_data[:,0].reshape(10000,1)\n",
    "print('xts:'+str(xts.shape))\n",
    "print('yts:'+str(yts.shape))\n",
    "xts=xts.reshape(10000,28,28,1)\n",
    "ytsoh=tf.one_hot(yts,10,axis=1)\n",
    "with tf.Session() as sess:\n",
    "    ytsoh=sess.run(ytsoh).reshape(10000,10)\n",
    "print('xts:'+str(xts.shape))\n",
    "print('ytsoh:'+str(ytsoh.shape))"
   ]
  },
  {
   "cell_type": "code",
   "execution_count": 113,
   "metadata": {},
   "outputs": [
    {
     "name": "stdout",
     "output_type": "stream",
     "text": [
      "10000/10000 [==============================] - 5s 533us/step\n"
     ]
    },
    {
     "data": {
      "text/plain": [
       "[0.2703128897309303, 0.9044]"
      ]
     },
     "execution_count": 113,
     "metadata": {},
     "output_type": "execute_result"
    }
   ],
   "source": [
    "new_model.evaluate(xts,ytsoh)"
   ]
  },
  {
   "cell_type": "code",
   "execution_count": null,
   "metadata": {},
   "outputs": [],
   "source": []
  }
 ],
 "metadata": {
  "kernelspec": {
   "display_name": "Python 3",
   "language": "python",
   "name": "python3"
  },
  "language_info": {
   "codemirror_mode": {
    "name": "ipython",
    "version": 3
   },
   "file_extension": ".py",
   "mimetype": "text/x-python",
   "name": "python",
   "nbconvert_exporter": "python",
   "pygments_lexer": "ipython3",
   "version": "3.5.4"
  }
 },
 "nbformat": 4,
 "nbformat_minor": 2
}
