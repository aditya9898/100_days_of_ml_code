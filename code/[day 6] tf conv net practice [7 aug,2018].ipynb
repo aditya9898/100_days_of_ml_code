{
 "cells": [
  {
   "cell_type": "code",
   "execution_count": 1,
   "metadata": {},
   "outputs": [],
   "source": [
    "def train(xtr,ytr,epochs=5,lr=0.001,batch_size=64):\n",
    "    X,Y=create_placeholders()\n",
    "    params=make_params()\n",
    "    zf=for_prop(X,params)\n",
    "    cost=compute_cost(zf,Y)\n",
    "    optimizer=tf.train.AdamOptimizer(learning_rate=lr).minimize(cost)\n",
    "    init=tf.global_variables_initializer()\n",
    "    with tf.Session() as sess:\n",
    "        sess.run(init)\n",
    "        costs=[]\n",
    "        for i in range(epochs):\n",
    "            epoch_cost=0\n",
    "            minibatches=random_mini_batches(xtr,ytr,batch_size)\n",
    "            m=xtr.shape[0]\n",
    "            num_tot_mb=m//batch_size\n",
    "            for mb in minibatches:\n",
    "                mbx,mby=mb\n",
    "                _,c=sess.run([optimizer,cost],feed_dict={X:mbx,Y:mby})\n",
    "                epoch_cost+=c/num_tot_mb\n",
    "            costs.append(epoch_cost)\n",
    "            print('cost after epoch '+str(i)+':'+str(epoch_cost))\n",
    "        final_params=sess.run(params)\n",
    "        accuracy_list=[]\n",
    "        minibatches=random_mini_batches(xtr,ytr,batch_size)\n",
    "        for mb in minibatches:\n",
    "            mbx,mby=mb\n",
    "            m=mbx.shape[0]\n",
    "            test_fz=sess.run(zf,feed_dict={X:mbx})\n",
    "            test_fz=tf.argmax(test_fz,1)\n",
    "            test_fz=sess.run(test_fz)\n",
    "            test_fz=test_fz.reshape(m,1)\n",
    "            mby=(np.argmax(mby,1)).reshape(m,1)\n",
    "            acc=np.mean(test_fz==mby)\n",
    "            accuracy_list.append(acc)\n",
    "        accuracy_list=np.mean(accuracy_list)\n",
    "        print('accuracy is---'+str(accuracy_list))\n",
    "    plt.plot(np.squeeze(costs))\n",
    "    plt.xlabel('epochs in 5s')\n",
    "    plt.ylabel('cost')\n",
    "    plt.title('cost vs epochs')    \n",
    "    return(final_params,test_fz,newy)"
   ]
  },
  {
   "cell_type": "code",
   "execution_count": null,
   "metadata": {},
   "outputs": [],
   "source": []
  }
 ],
 "metadata": {
  "kernelspec": {
   "display_name": "Python 3",
   "language": "python",
   "name": "python3"
  },
  "language_info": {
   "codemirror_mode": {
    "name": "ipython",
    "version": 3
   },
   "file_extension": ".py",
   "mimetype": "text/x-python",
   "name": "python",
   "nbconvert_exporter": "python",
   "pygments_lexer": "ipython3",
   "version": "3.5.4"
  }
 },
 "nbformat": 4,
 "nbformat_minor": 2
}
