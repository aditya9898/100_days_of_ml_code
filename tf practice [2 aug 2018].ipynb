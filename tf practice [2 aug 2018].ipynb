{
 "cells": [
  {
   "cell_type": "code",
   "execution_count": 1,
   "metadata": {},
   "outputs": [
    {
     "name": "stderr",
     "output_type": "stream",
     "text": [
      "C:\\Users\\aditya\\AppData\\Local\\Continuum\\anaconda3\\envs\\tensorflow\\lib\\site-packages\\h5py\\__init__.py:36: FutureWarning: Conversion of the second argument of issubdtype from `float` to `np.floating` is deprecated. In future, it will be treated as `np.float64 == np.dtype(float).type`.\n",
      "  from ._conv import register_converters as _register_converters\n"
     ]
    }
   ],
   "source": [
    "import tensorflow as tf\n",
    "import numpy as np\n",
    "import pandas as pd\n",
    "import matplotlib.pyplot as plt"
   ]
  },
  {
   "cell_type": "code",
   "execution_count": 1,
   "metadata": {},
   "outputs": [],
   "source": [
    "def create_random_minibatches(x,y,mini_batch_size):\n",
    "    n_x=x.shape[0]\n",
    "    m=x.shape[1]\n",
    "    perm=list(np.random.permutation(m))\n",
    "    minibatches=[]\n",
    "    num_total_minibatches=m//mini_batch_size\n",
    "    x=x[:,perm]\n",
    "    y=y[:,perm]\n",
    "    for i in range (num_total_minibatches):\n",
    "        minibatch_x=x[:,i*mini_batch_size:(i+1)*mini_batch_size]\n",
    "        minibatch_y=y[:,i*mini_batch_size:(i+1)*mini_batch_size]\n",
    "        minibatch=(minibatch_x,minibatch_y)\n",
    "        minibatches.append(minibatch)\n",
    "    if m>num_total_minibatches*mini_batch_size:\n",
    "        minibatch_x=x[:,num_total_minibatches*mini_batch_size:m]\n",
    "        minibatch_y=y[:,num_total_minibatches*mini_batch_size:m]\n",
    "        minibatch=(minibatch_x,minibatch_y)\n",
    "        minibatches.append(minibatch)\n",
    "    return minibatches"
   ]
  },
  {
   "cell_type": "code",
   "execution_count": 15,
   "metadata": {},
   "outputs": [],
   "source": [
    "def create_placeholders(n_x,n_y):\n",
    "    x=tf.placeholder(tf.float32,[n_x,None])\n",
    "    y=tf.placeholder(tf.float32,[n_y,None])\n",
    "    return x,y"
   ]
  },
  {
   "cell_type": "code",
   "execution_count": 16,
   "metadata": {},
   "outputs": [],
   "source": [
    "def initialize_params(ld):\n",
    "    num_layers=len(ld)-1\n",
    "    parameters={}\n",
    "    for i in range(num_layers):\n",
    "        w_num=str(\"w\"+str(i+1))\n",
    "        b_num=str(\"b\"+str(i+1))\n",
    "        parameters[\"w\"+str(i+1)]=tf.get_variable(w_num,(ld[i+1],ld[i]),initializer=tf.contrib.layers.xavier_initializer(seed=0))\n",
    "        parameters[\"b\"+str(i+1)]=tf.get_variable(b_num,(ld[i+1],1),initializer=tf.zeros_initializer())\n",
    "    return parameters"
   ]
  },
  {
   "cell_type": "code",
   "execution_count": 17,
   "metadata": {},
   "outputs": [],
   "source": [
    "def forward_prop(x,parameters):\n",
    "    layers=len(parameters)//2\n",
    "    z=x\n",
    "    for i in range(layers):\n",
    "        z=tf.add((tf.matmul(parameters[\"w\"+str(i+1)],z)),parameters[\"b\"+str(i+1)])\n",
    "        z=tf.nn.relu(z)\n",
    "    return z"
   ]
  },
  {
   "cell_type": "code",
   "execution_count": 18,
   "metadata": {},
   "outputs": [],
   "source": [
    "def compute_cost(logits,labels):\n",
    "    logits=tf.transpose(logits)\n",
    "    labels=tf.transpose(labels)\n",
    "    cost=tf.reduce_mean(tf.nn.softmax_cross_entropy_with_logits(logits=logits,labels=labels))\n",
    "    return cost"
   ]
  },
  {
   "cell_type": "code",
   "execution_count": 54,
   "metadata": {},
   "outputs": [],
   "source": [
    "def train(x,y,ld,learning_rate=0.01,epochs=20,mini_batch_size=32):\n",
    "    m=x.shape[1]\n",
    "    n_x=x.shape[0]\n",
    "    n_y=y.shape[0]\n",
    "    X,Y=create_placeholders(n_x,n_y)\n",
    "    parameters=initialize_params(ld)\n",
    "    Z=forward_prop(X,parameters)\n",
    "    cost=compute_cost(Z,Y)\n",
    "    optimizer=tf.train.GradientDescentOptimizer(learning_rate=learning_rate).minimize(cost)\n",
    "    costs=[]\n",
    "    init=tf.global_variables_initializer()\n",
    "    sess=tf.Session()\n",
    "    sess.run(init)\n",
    "    for i in range(epochs):\n",
    "        epoch_cost=0\n",
    "        num_mini_batches=m//mini_batch_size\n",
    "        mini_batches=create_random_minibatches(x,y,mini_batch_size)\n",
    "        for mini_batch in mini_batches:\n",
    "            (minibatch_x,minibatch_y)=mini_batch\n",
    "            _,c=sess.run([optimizer,cost],feed_dict={X:minibatch_x,Y:minibatch_y})\n",
    "            epoch_cost+=c/num_mini_batches\n",
    "        if i%2==0:\n",
    "            costs.append(epoch_cost)\n",
    "            print(\"cost after \"+str(i)+\"th epoch: \"+str(epoch_cost))\n",
    "    plt.plot(np.squeeze(costs))\n",
    "    plt.xlabel('epochs in 10s')\n",
    "    plt.ylabel('cost')\n",
    "    plt.title('cost vs epochs')\n",
    "    params=sess.run(parameters)\n",
    "    return params"
   ]
  },
  {
   "cell_type": "code",
   "execution_count": 20,
   "metadata": {},
   "outputs": [],
   "source": [
    "def forward_propagation(x,parameters):\n",
    "    z=x\n",
    "    layers=len(parameters)//2\n",
    "    for i in range(layers):\n",
    "        z=np.sum((np.matmul(parameters[\"w\"+str(i+1)],z)),paramters[\"b\"+str(i+1)])\n",
    "        z=np.maximum(z,0)\n",
    "    return z"
   ]
  },
  {
   "cell_type": "code",
   "execution_count": 52,
   "metadata": {},
   "outputs": [
    {
     "name": "stdout",
     "output_type": "stream",
     "text": [
      "(60000, 784)\n",
      "(60000, 1)\n",
      "(784, 60000)\n",
      "(1, 60000)\n",
      "(10, 60000)\n"
     ]
    }
   ],
   "source": [
    "df=pd.read_csv('./datasets/fashion-mnist_train.csv')\n",
    "train_data=df.as_matrix()\n",
    "xtr=train_data[:,1::]\n",
    "ytr=train_data[:,0].reshape(60000,1)\n",
    "print(xtr.shape)\n",
    "print(ytr.shape)\n",
    "ytr=ytr.T\n",
    "xtr=xtr.T\n",
    "print(xtr.shape)\n",
    "print(ytr.shape)\n",
    "ytroh=tf.one_hot(ytr,10,axis=0)\n",
    "sess=tf.Session()\n",
    "ytroh=sess.run(ytroh).reshape(10,60000)\n",
    "print(ytroh.shape)"
   ]
  },
  {
   "cell_type": "code",
   "execution_count": 43,
   "metadata": {},
   "outputs": [
    {
     "name": "stdout",
     "output_type": "stream",
     "text": [
      "(1, 5)\n",
      "[[0. 0. 0. 0. 0.]\n",
      " [1. 1. 0. 0. 0.]\n",
      " [0. 0. 1. 1. 0.]\n",
      " [0. 0. 0. 0. 0.]\n",
      " [0. 0. 0. 0. 0.]\n",
      " [0. 0. 0. 0. 0.]\n",
      " [0. 0. 0. 0. 0.]\n",
      " [0. 0. 0. 0. 0.]\n",
      " [0. 0. 0. 0. 0.]\n",
      " [0. 0. 0. 0. 1.]]\n"
     ]
    }
   ],
   "source": [
    "a=np.array([[1,1,2,2,9]])\n",
    "print(a.shape)\n",
    "a=tf.one_hot(a,10,axis=0)\n",
    "with tf.Session() as sess:\n",
    "    a=sess.run(a)\n",
    "    a=a.reshape(10,5)\n",
    "print(a)"
   ]
  },
  {
   "cell_type": "code",
   "execution_count": 55,
   "metadata": {},
   "outputs": [
    {
     "name": "stdout",
     "output_type": "stream",
     "text": [
      "cost after 0th epoch: 143.50795139999394\n",
      "cost after 2th epoch: 2.3025259390513364\n",
      "cost after 4th epoch: 2.3025204179128274\n",
      "cost after 6th epoch: 2.3025141549428567\n",
      "cost after 8th epoch: 2.3025107762654886\n",
      "cost after 10th epoch: 2.3025096781413024\n",
      "cost after 12th epoch: 2.302509237289455\n",
      "cost after 14th epoch: 2.302509010569281\n",
      "cost after 16th epoch: 2.3025088745117452\n",
      "cost after 18th epoch: 2.30250878410342\n"
     ]
    },
    {
     "data": {
      "image/png": "[encoded data removed]",
      "text/plain": [
       "<Figure size 432x288 with 1 Axes>"
      ]
     },
     "metadata": {},
     "output_type": "display_data"
    }
   ],
   "source": [
    "ld=[784,50,10]\n",
    "tf.reset_default_graph()\n",
    "parameters=train(xtr,ytroh,ld)"
   ]
  },
  {
   "cell_type": "code",
   "execution_count": null,
   "metadata": {},
   "outputs": [],
   "source": []
  }
 ],
 "metadata": {
  "kernelspec": {
   "display_name": "Python 3",
   "language": "python",
   "name": "python3"
  },
  "language_info": {
   "codemirror_mode": {
    "name": "ipython",
    "version": 3
   },
   "file_extension": ".py",
   "mimetype": "text/x-python",
   "name": "python",
   "nbconvert_exporter": "python",
   "pygments_lexer": "ipython3",
   "version": "3.5.4"
  }
 },
 "nbformat": 4,
 "nbformat_minor": 2
}
